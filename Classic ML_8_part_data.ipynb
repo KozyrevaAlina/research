{
 "cells": [
  {
   "cell_type": "code",
   "execution_count": 1,
   "metadata": {},
   "outputs": [],
   "source": [
    "import pandas as pd\n",
    "from sklearn.discriminant_analysis import StandardScaler\n",
    "from sklearn.model_selection import train_test_split\n",
    "from collections import Counter\n",
    "from torch.utils.data import Dataset, DataLoader\n",
    "import time\n",
    "import numpy as np\n",
    "from sklearn.utils import resample\n",
    "# from sklearn.decomposition import FactorAnalysis, IncrementalPCA, FastICA, PCA\n",
    "from sklearn.model_selection import StratifiedKFold\n",
    "import torch\n",
    "import torch.nn as nn\n",
    "from matplotlib import pyplot as plt\n",
    "\n",
    "from sklearn.metrics import precision_score, recall_score, f1_score, accuracy_score\n"
   ]
  },
  {
   "cell_type": "code",
   "execution_count": 2,
   "metadata": {},
   "outputs": [],
   "source": [
    "from dataset.preparation import convert_to_gigital_target"
   ]
  },
  {
   "cell_type": "code",
   "execution_count": 3,
   "metadata": {},
   "outputs": [],
   "source": [
    "csv = '/Users/alinakozyreva/Documents/MIPT/3_семестр/ВКР/datasets/CIC_IOT_Dataset2023/csv/part-00164-363d1ba3-8ab5-4f96-bc25-4d5862db7cb9-c000.csv'"
   ]
  },
  {
   "cell_type": "code",
   "execution_count": 4,
   "metadata": {},
   "outputs": [],
   "source": [
    "df = pd.read_csv(csv)"
   ]
  },
  {
   "cell_type": "code",
   "execution_count": 5,
   "metadata": {},
   "outputs": [],
   "source": [
    "RANDOM_STATE = 42\n",
    "num_features = 46\n",
    "EPOCH = 10  # train the training data n times\n",
    "BATCH_SIZE = 64\n",
    "INPUT_SIZE = num_features  # rnn input size\n",
    "LR = 0.008  # learning rate"
   ]
  },
  {
   "cell_type": "code",
   "execution_count": 6,
   "metadata": {},
   "outputs": [],
   "source": [
    "class CustomDataset(Dataset):\n",
    "    def __init__(self, features, labels):\n",
    "        self.features = features\n",
    "        self.labels = labels\n",
    "\n",
    "    def __len__(self):\n",
    "        return (len(self.labels))\n",
    "\n",
    "    def __getitem__(self, index):  \n",
    "        return self.features[index], self.labels[index]"
   ]
  },
  {
   "cell_type": "code",
   "execution_count": 7,
   "metadata": {},
   "outputs": [],
   "source": [
    "df = convert_to_gigital_target(df, classification_type='group')"
   ]
  },
  {
   "cell_type": "code",
   "execution_count": 8,
   "metadata": {},
   "outputs": [
    {
     "name": "stdout",
     "output_type": "stream",
     "text": [
      "Counter({1: 325396, 2: 77652, 3: 25516, 0: 10687, 5: 4703, 4: 3340, 6: 231, 7: 113})\n"
     ]
    }
   ],
   "source": [
    "# classic\n",
    "\n",
    "X = df.iloc[:, 0:-1].values # [:, 0:-1]: выбирает все строки (:) и все столбцы, кроме последнего (0:-1)\n",
    "y = df['label'].values\n",
    "\n",
    "print(Counter(df['label']))\n",
    "\n",
    "# create trainset and testset\n",
    "X_train, X_test, y_train, y_test = train_test_split(X, y, test_size=0.2, random_state=RANDOM_STATE, stratify=y)\n",
    "\n",
    "scaler = StandardScaler()\n",
    "\n",
    "X_train = scaler.fit_transform(X_train)\n",
    "X_test = scaler.transform(X_test)\n",
    "\n",
    "# ipca = IncrementalPCA(n_components=num_features)\n",
    "# # ipca.partial_fit(X_train)\n",
    "# X_train = ipca.fit_transform(X_train)\n",
    "# X_test = ipca.transform(X_test)\n",
    "\n",
    "X_train, X_val, y_train, y_val = train_test_split(X_train, y_train, test_size=0.2, random_state=RANDOM_STATE, stratify=y_train)\n"
   ]
  },
  {
   "cell_type": "code",
   "execution_count": 9,
   "metadata": {},
   "outputs": [],
   "source": [
    "num_partitions = 10\n",
    "max_partitions_size = 10_000\n",
    "val_ratio = 0.2"
   ]
  },
  {
   "cell_type": "code",
   "execution_count": 10,
   "metadata": {},
   "outputs": [
    {
     "name": "stdout",
     "output_type": "stream",
     "text": [
      "Counter({1.0: 7258, 2.0: 1762, 3.0: 560, 0.0: 218, 5.0: 119, 4.0: 80, 7.0: 2, 6.0: 1}) 10000\n"
     ]
    }
   ],
   "source": [
    "# trainloaders = []\n",
    "# valloaders = []\n",
    "# Stratified\n",
    "skf = StratifiedKFold(n_splits=10, shuffle=True, random_state=42)\n",
    "for i, (train_index, test_index) in enumerate(skf.split(X_train, y_train)):\n",
    "    X_train_part, y_train_part = X_train[train_index], y_train[train_index]\n",
    "    trainset_for_one = np.column_stack([X_train_part, y_train_part])\n",
    "    \n",
    "    if len(trainset_for_one) > max_partitions_size:\n",
    "        trainset_for_one = resample(trainset_for_one, replace=False, n_samples=max_partitions_size, random_state=RANDOM_STATE)\n",
    "    \n",
    "    X_val_part, y_val_part = X_train[test_index], y_train[test_index]\n",
    "    valset_for_one = np.column_stack([X_val_part, y_val_part])\n",
    "    \n",
    "    max_len_val = int(len(trainset_for_one) * val_ratio)\n",
    "    if len(valset_for_one) > max_len_val:\n",
    "        valset_for_one = resample(valset_for_one, replace=False, n_samples=max_len_val, random_state=RANDOM_STATE)\n",
    "    \n",
    "    if i == 0:\n",
    "        data = Counter(trainset_for_one[:, -1])\n",
    "        print(data, sum(data.values()))\n",
    "        train_set = CustomDataset(trainset_for_one[:, :-1], trainset_for_one[:, -1])\n",
    "        val_set = CustomDataset(valset_for_one[:, :-1], valset_for_one[:, -1])\n",
    "        train_loader = DataLoader(train_set, batch_size=BATCH_SIZE, shuffle=True)\n",
    "        val_loader = DataLoader(val_set, batch_size=BATCH_SIZE, shuffle=True)\n",
    "    \n",
    "    # trainloaders.append(trainloader)\n",
    "    # valloaders.append(valloader)\n"
   ]
  },
  {
   "cell_type": "code",
   "execution_count": 11,
   "metadata": {},
   "outputs": [
    {
     "data": {
      "image/png": "[encoded data removed]",
      "text/plain": [
       "<Figure size 640x480 with 1 Axes>"
      ]
     },
     "metadata": {},
     "output_type": "display_data"
    }
   ],
   "source": [
    "\n",
    "labels, values = zip(*data.items())\n",
    "\n",
    "fig, ax = plt.subplots()\n",
    "ax.bar(labels, values)\n",
    "\n",
    "ax.set_xlabel('тип вторжения')\n",
    "ax.set_ylabel('Количество')\n",
    "ax.set_title('Распределение вторжений')\n",
    "\n",
    "plt.show()"
   ]
  },
  {
   "cell_type": "code",
   "execution_count": 12,
   "metadata": {},
   "outputs": [],
   "source": [
    "device = torch.device(\"cuda\" if torch.cuda.is_available() else \"cpu\")"
   ]
  },
  {
   "cell_type": "code",
   "execution_count": 13,
   "metadata": {},
   "outputs": [
    {
     "name": "stdout",
     "output_type": "stream",
     "text": [
      "BiLSTM(\n",
      "  (lstm): LSTM(46, 32, bidirectional=True)\n",
      "  (fc): Linear(in_features=64, out_features=34, bias=True)\n",
      ")\n",
      "<bound method Module.parameters of BiLSTM(\n",
      "  (lstm): LSTM(46, 32, bidirectional=True)\n",
      "  (fc): Linear(in_features=64, out_features=34, bias=True)\n",
      ")>\n",
      "Number of parameter: 0.02M\n"
     ]
    }
   ],
   "source": [
    "class BiLSTM(nn.Module):\n",
    "    def __init__(self, num_classes: int):\n",
    "        super(BiLSTM, self).__init__()\n",
    "        self.lstm = nn.LSTM(\n",
    "            input_size=INPUT_SIZE,\n",
    "            hidden_size=32,\n",
    "            bidirectional=True,\n",
    "        )\n",
    "       \n",
    "        self.fc = nn.Linear(32 * 2, num_classes)\n",
    "\n",
    "    def forward(self, x):\n",
    "        x = x.transpose(0, 1) \n",
    "        r_out, (h_n, h_c) = self.lstm(x)\n",
    "        r_out = r_out[-1]  \n",
    "        model = self.fc(r_out) \n",
    "        return model\n",
    "\n",
    "bilstm = BiLSTM(num_classes=34).to(device=device)\n",
    "\n",
    "print(bilstm)\n",
    "print(bilstm.parameters)\n",
    "optimizer = torch.optim.Adam(bilstm.parameters(), lr=LR)  \n",
    "torch.optim.lr_scheduler.StepLR(optimizer, step_size=20, gamma=0.1, last_epoch=-1)\n",
    "loss_func = nn.CrossEntropyLoss()  \n",
    "\n",
    "total = sum([param.nelement() for param in bilstm.parameters()])\n",
    "print(\"Number of parameter: %.2fM\" % (total / 1e6))"
   ]
  },
  {
   "cell_type": "code",
   "execution_count": 14,
   "metadata": {},
   "outputs": [],
   "source": [
    "# classic\n",
    "test_data = CustomDataset(X_test, y_test)\n",
    "test_loader = DataLoader(test_data, batch_size=BATCH_SIZE, shuffle=True)"
   ]
  },
  {
   "cell_type": "code",
   "execution_count": 15,
   "metadata": {},
   "outputs": [],
   "source": [
    "def train(model, trainloader, optimizer, epochs, device: str):\n",
    "    criterion = torch.nn.CrossEntropyLoss()\n",
    "    model.train()\n",
    "    model.to(device)\n",
    "\n",
    "    for epoch in range(epochs):\n",
    "        print(epoch)\n",
    "        for step, (x, y) in enumerate(train_loader):\n",
    "            x, y = x.to(device), y.to(device)\n",
    "            x = x.view(-1, 1, INPUT_SIZE).float()\n",
    "            optimizer.zero_grad()\n",
    "            loss = criterion(model(x), y)\n",
    "            loss.backward()\n",
    "            optimizer.step()\n",
    "\n",
    "def test(model, testloader, device: str):\n",
    "    criterion = torch.nn.CrossEntropyLoss()\n",
    "    loss = 0.0\n",
    "    predicts = []\n",
    "    labels = []\n",
    "    model.eval()\n",
    "    model.to(device)\n",
    "    \n",
    "    with torch.no_grad():\n",
    "        for step, (x, y) in enumerate(testloader):\n",
    "            x, y = x.to(device), y.to(device)\n",
    "            x = x.view(-1, 1, INPUT_SIZE).float()\n",
    "            outputs = model(x)\n",
    "            loss += criterion(outputs, y)\n",
    "            _, predicted = torch.max(outputs.data, 1)\n",
    "\n",
    "            # for metrics   \n",
    "            # Collect predictions and true labels for later use in calculating metrics\n",
    "            predicts.extend(predicted)\n",
    "            labels.extend(y.numpy())\n",
    "\n",
    "    accuracy = accuracy_score(labels, predicts)\n",
    "    precision = precision_score(labels, predicts, average='weighted')\n",
    "    recall = recall_score(labels, predicts, average='weighted')\n",
    "    f1 = f1_score(labels, predicts, average='weighted')\n",
    "    \n",
    "    return loss, accuracy, precision, recall, f1"
   ]
  },
  {
   "cell_type": "code",
   "execution_count": 16,
   "metadata": {},
   "outputs": [
    {
     "name": "stdout",
     "output_type": "stream",
     "text": [
      "[001/010] 0.66 sec(s) Val Loss: 0.005910  Precision: 0.819935 Recall: 0.827000 F1: 0.779342 Accuracy: 0.827000\n",
      "[002/010] 0.42 sec(s) Val Loss: 0.005659  Precision: 0.812097 Recall: 0.829000 F1: 0.790825 Accuracy: 0.829000\n",
      "[003/010] 0.39 sec(s) Val Loss: 0.005946  Precision: 0.826758 Recall: 0.830500 F1: 0.783682 Accuracy: 0.830500\n",
      "[004/010] 0.47 sec(s) Val Loss: 0.005646  Precision: 0.826353 Recall: 0.834000 F1: 0.792015 Accuracy: 0.834000\n",
      "[005/010] 0.83 sec(s) Val Loss: 0.005460  Precision: 0.854681 Recall: 0.856000 F1: 0.830039 Accuracy: 0.856000\n",
      "[006/010] 0.26 sec(s) Val Loss: 0.005625  Precision: 0.842998 Recall: 0.853000 F1: 0.844356 Accuracy: 0.853000\n",
      "[007/010] 0.36 sec(s) Val Loss: 0.005558  Precision: 0.835779 Recall: 0.813500 F1: 0.820514 Accuracy: 0.813500\n",
      "[008/010] 0.75 sec(s) Val Loss: 0.005404  Precision: 0.841373 Recall: 0.844500 F1: 0.813224 Accuracy: 0.844500\n",
      "[009/010] 0.38 sec(s) Val Loss: 0.005154  Precision: 0.852224 Recall: 0.860500 F1: 0.846496 Accuracy: 0.860500\n",
      "[010/010] 0.21 sec(s) Val Loss: 0.004938  Precision: 0.877329 Recall: 0.881500 F1: 0.872389 Accuracy: 0.881500\n",
      "training time: 4.73 sec(s) \n"
     ]
    }
   ],
   "source": [
    "# classic\n",
    "all_val_precision, all_val_recall, all_val_f1, all_val_accuracy = [], [], [], []\n",
    "epoch_start_global = time.time()\n",
    "for epoch in range(EPOCH):\n",
    "    epoch_start_time = time.time()\n",
    "    train_acc, train_loss = 0.0, 0.0\n",
    "    val_acc, val_loss = 0.0, 0.0\n",
    "    \n",
    "    train_predicts = []\n",
    "    train_labels = []\n",
    "\n",
    "    bilstm.train()  \n",
    "    for step, (b_x, b_y) in enumerate(train_loader):  \n",
    "        b_x = b_x.view(-1, 1, INPUT_SIZE).float()\n",
    "        b_y = b_y.long()\n",
    "        train_pred = bilstm(b_x)# rnn output\n",
    "        loss = loss_func(train_pred, b_y)  \n",
    "        optimizer.zero_grad() \n",
    "        loss.backward() \n",
    "        optimizer.step() \n",
    "\n",
    "        train_acc += np.sum(np.argmax(train_pred.cpu().data.numpy(), axis=1) == b_y.numpy())\n",
    "        train_loss += loss.item()\n",
    "\n",
    "        # Collect predictions and true labels for later use in calculating metrics\n",
    "        train_predicts.extend(np.argmax(train_pred.cpu().data.numpy(), axis=1))\n",
    "        train_labels.extend(b_y.numpy())\n",
    "\n",
    "    bilstm.eval()\n",
    "    with torch.no_grad():\n",
    "        predicts = []\n",
    "        labels = []\n",
    "        for step, (a_x, a_y) in enumerate(val_loader):\n",
    "            a_x = a_x.view(-1, 1, INPUT_SIZE).float()\n",
    "            a_y = a_y.long()\n",
    "            val_pred = bilstm(a_x)\n",
    "            loss = loss_func(val_pred, a_y)\n",
    "            val_acc += np.sum(np.argmax(val_pred.cpu().data.numpy(), axis=1) == a_y.numpy())\n",
    "            val_loss += loss.item()\n",
    "\n",
    "            # Collect predictions and true labels for later use in calculating metrics\n",
    "            predicts.extend(np.argmax(val_pred.cpu().data.numpy(), axis=1))\n",
    "            labels.extend(a_y.numpy())\n",
    "\n",
    "    # Calculate precision, recall, and F1 score for both training and validation sets\n",
    "    train_precision = precision_score(train_labels, train_predicts, average='weighted', zero_division=1)\n",
    "    train_recall = recall_score(train_labels, train_predicts, average='weighted', zero_division=1)\n",
    "    train_f1 = f1_score(train_labels, train_predicts, average='weighted')\n",
    "    train_accuracy = accuracy_score(train_labels, train_predicts)\n",
    "\n",
    "    val_precision = precision_score(labels, predicts, average='weighted', zero_division=1)\n",
    "    val_recall = recall_score(labels, predicts, average='weighted', zero_division=1)\n",
    "    val_f1 = f1_score(labels, predicts, average='weighted')\n",
    "    val_accuracy = accuracy_score(labels, predicts)\n",
    "\n",
    "    # to list    \n",
    "    all_val_precision.append(val_precision)\n",
    "    all_val_recall.append(val_recall)\n",
    "    all_val_f1.append(val_f1)\n",
    "    all_val_accuracy.append(val_accuracy)\n",
    "\n",
    "    print('[%03d/%03d] %2.2f sec(s) Val Loss: %3.6f  Precision: %3.6f Recall: %3.6f F1: %3.6f Accuracy: %3.6f' % \\\n",
    "          (epoch + 1, EPOCH, time.time() - epoch_start_time, \\\n",
    "        val_loss / val_set.__len__(), \n",
    "        val_precision, val_recall, val_f1, val_accuracy, \n",
    "           ))\n",
    "\n",
    "print('training time: %2.2f sec(s) '% (time.time()-epoch_start_global))"
   ]
  },
  {
   "cell_type": "code",
   "execution_count": 17,
   "metadata": {},
   "outputs": [
    {
     "name": "stdout",
     "output_type": "stream",
     "text": [
      "1.02 sec(s) Test Loss: 0.004615 Precision: 0.880917 Recall: 0.885645 F1: 0.877309 Accuracy: 0.885645\n"
     ]
    }
   ],
   "source": [
    "bilstm.eval()\n",
    "with torch.no_grad():\n",
    "    test_predicts = []\n",
    "    test_labels = []\n",
    "    test_acc, test_loss = 0.0, 0.0\n",
    "\n",
    "    for step, (a_x, a_y) in enumerate(test_loader):\n",
    "        a_x = a_x.view(-1, 1, INPUT_SIZE).float()\n",
    "        test_pred = bilstm(a_x)\n",
    "        loss = loss_func(test_pred, a_y)\n",
    "\n",
    "        test_acc += np.sum(np.argmax(test_pred.cpu().data.numpy(), axis=1) == a_y.numpy())\n",
    "        test_loss += loss.item()\n",
    "\n",
    "        # Collect predictions and true labels for later use in calculating metrics\n",
    "        test_predicts.extend(np.argmax(test_pred.cpu().data.numpy(), axis=1))\n",
    "        test_labels.extend(a_y.numpy())\n",
    "\n",
    "test_precision = precision_score(test_labels, test_predicts, average='weighted', zero_division=1)\n",
    "test_recall = recall_score(test_labels, test_predicts, average='weighted', zero_division=1)\n",
    "test_f1 = f1_score(test_labels, test_predicts, average='weighted')\n",
    "test_accuracy = accuracy_score(test_labels, test_predicts)    \n",
    "\n",
    "print('%2.2f sec(s) Test Loss: %3.6f Precision: %3.6f Recall: %3.6f F1: %3.6f Accuracy: %3.6f' % \\\n",
    "      (time.time() - epoch_start_time, test_loss / test_data.__len__(), test_precision, test_recall, test_f1, test_accuracy)\n",
    "     )   "
   ]
  },
  {
   "cell_type": "code",
   "execution_count": 18,
   "metadata": {},
   "outputs": [
    {
     "data": {
      "image/png": "[encoded data removed]",
      "text/plain": [
       "<Figure size 640x480 with 1 Axes>"
      ]
     },
     "metadata": {},
     "output_type": "display_data"
    }
   ],
   "source": [
    "from matplotlib import pyplot as plt\n",
    "\n",
    "round = list(range(1, EPOCH + 1))\n",
    "acc = [100.0 * value for value in all_val_accuracy]\n",
    "recall = [100.0 * value for value in all_val_recall]\n",
    "f1 = [100.0 * value for value in all_val_f1]\n",
    "precision = [100.0 * value for value in all_val_precision]\n",
    "\n",
    "plt.plot(round, acc, label='Accuracy')\n",
    "plt.plot(round, recall, label='Recall')\n",
    "plt.plot(round, f1, label='F1 Score')\n",
    "plt.plot(round, precision, label='Precision')\n",
    "\n",
    "plt.grid()\n",
    "plt.xlabel('Round')\n",
    "plt.ylabel('Percentage (%)')\n",
    "plt.legend()\n",
    "plt.show()"
   ]
  }
 ],
 "metadata": {
  "kernelspec": {
   "display_name": "Python 3",
   "language": "python",
   "name": "python3"
  },
  "language_info": {
   "codemirror_mode": {
    "name": "ipython",
    "version": 3
   },
   "file_extension": ".py",
   "mimetype": "text/x-python",
   "name": "python",
   "nbconvert_exporter": "python",
   "pygments_lexer": "ipython3",
   "version": "3.10.8"
  }
 },
 "nbformat": 4,
 "nbformat_minor": 2
}
