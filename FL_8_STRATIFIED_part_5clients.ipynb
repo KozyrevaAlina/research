{
 "cells": [
  {
   "cell_type": "code",
   "execution_count": 1,
   "metadata": {},
   "outputs": [],
   "source": [
    "##################\n",
    "from dataset.preparation import convert_type, convert_to_gigital_target\n",
    "from dataset.preprocessing import prepare_dataset\n",
    "import pandas as pd\n",
    "import numpy as np\n",
    "from sklearn.utils import resample\n",
    "\n",
    "from torch.utils.data import DataLoader, Dataset\n",
    "from sklearn.model_selection import StratifiedKFold\n",
    "from sklearn.preprocessing import MinMaxScaler, StandardScaler\n",
    "\n",
    "from sklearn.model_selection import StratifiedShuffleSplit, train_test_split\n",
    "\n",
    "from sklearn.metrics import precision_score, recall_score, f1_score, accuracy_score\n",
    "\n"
   ]
  },
  {
   "cell_type": "code",
   "execution_count": 2,
   "metadata": {},
   "outputs": [],
   "source": [
    "csv = '/Users/alinakozyreva/Documents/MIPT/3_семестр/ВКР/datasets/CIC_IOT_Dataset2023/csv/part-00164-363d1ba3-8ab5-4f96-bc25-4d5862db7cb9-c000.csv'"
   ]
  },
  {
   "cell_type": "code",
   "execution_count": 3,
   "metadata": {},
   "outputs": [],
   "source": [
    "df = pd.read_csv(csv)\n",
    "df = convert_to_gigital_target(df, classification_type='group')\n",
    "df = convert_type(df)"
   ]
  },
  {
   "cell_type": "code",
   "execution_count": 4,
   "metadata": {},
   "outputs": [],
   "source": [
    "trainloaders, validationloaders, testloader = prepare_dataset(df, \n",
    "                                                              mode='STRATIFIED',  #'STRATIFIED' 'SINGLE_ATTACK' 'RANDOM' 'EXCLUDE_SINGLE_ATTACK' 'HALF_BENIGN'\n",
    "                                                              normalization='StandardScaler',\n",
    "                                                              feature_extractor=None,\n",
    "                                                              num_features=46,\n",
    "                                                              num_partitions=10,\n",
    "                                                              max_partitions_size=500,\n",
    "                                                              batch_size=64,\n",
    "                                                              val_ratio=0.2\n",
    ")"
   ]
  },
  {
   "cell_type": "code",
   "execution_count": 5,
   "metadata": {},
   "outputs": [
    {
     "name": "stdout",
     "output_type": "stream",
     "text": [
      "Counter({1: 325396, 2: 77652, 3: 25516, 0: 10687, 5: 4703, 4: 3340, 6: 231, 7: 113})\n",
      "447638\n"
     ]
    },
    {
     "data": {
      "image/png": "[encoded data removed]",
      "text/plain": [
       "<Figure size 640x480 with 1 Axes>"
      ]
     },
     "metadata": {},
     "output_type": "display_data"
    }
   ],
   "source": [
    "from collections import Counter\n",
    "from matplotlib import pyplot as plt\n",
    "\n",
    "print(Counter(df['label']))\n",
    "data = Counter(df['label'])\n",
    "print(sum(data.values()))\n",
    "\n",
    "labels, values = zip(*data.items())\n",
    "\n",
    "fig, ax = plt.subplots()\n",
    "ax.bar(labels, values)\n",
    "\n",
    "ax.set_xlabel('тип вторжения')\n",
    "ax.set_ylabel('Количество')\n",
    "ax.set_title('Распределение вторжений')\n",
    "\n",
    "plt.show()"
   ]
  },
  {
   "attachments": {},
   "cell_type": "markdown",
   "metadata": {},
   "source": [
    "# Preparing the experiment\n",
    "\n"
   ]
  },
  {
   "cell_type": "code",
   "execution_count": 6,
   "metadata": {},
   "outputs": [],
   "source": [
    "import torch\n",
    "import torch.nn as nn\n",
    "import torch.nn.functional as F"
   ]
  },
  {
   "attachments": {},
   "cell_type": "markdown",
   "metadata": {},
   "source": [
    "We'll be training the model in a Federated setting. In order to do that, we need to define two functions:\n",
    "\n",
    "* `train()` that will train the model given a dataloader.\n",
    "* `test()` that will be used to evaluate the performance of the model on held-out data, e.g., a training set."
   ]
  },
  {
   "cell_type": "code",
   "execution_count": 7,
   "metadata": {},
   "outputs": [],
   "source": [
    "class Net(nn.Module): \n",
    "    def __init__(self, \n",
    "                 num_classes: int=8): # input_size = 46 number of features\n",
    "        super(Net, self).__init__()\n",
    "        self.lstm = nn.LSTM(\n",
    "            input_size=46,\n",
    "            hidden_size=32,\n",
    "            bidirectional=True,\n",
    "        )\n",
    "       \n",
    "        self.fc = nn.Linear(32 * 2, num_classes)\n",
    "\n",
    "    def forward(self, x):\n",
    "        x = x.transpose(0, 1) # (sequence_length, batch_size, input_size)\n",
    "        r_out, (h_n, h_c) = self.lstm(x)\n",
    "        r_out = r_out[-1]  \n",
    "        model = self.fc(r_out) \n",
    "        return model"
   ]
  },
  {
   "cell_type": "code",
   "execution_count": 8,
   "metadata": {},
   "outputs": [],
   "source": [
    "net = Net(num_classes=8)"
   ]
  },
  {
   "cell_type": "code",
   "execution_count": 9,
   "metadata": {},
   "outputs": [
    {
     "name": "stdout",
     "output_type": "stream",
     "text": [
      "Net(\n",
      "  (lstm): LSTM(46, 32, bidirectional=True)\n",
      "  (fc): Linear(in_features=64, out_features=8, bias=True)\n",
      ")\n",
      "<bound method Module.parameters of Net(\n",
      "  (lstm): LSTM(46, 32, bidirectional=True)\n",
      "  (fc): Linear(in_features=64, out_features=8, bias=True)\n",
      ")>\n",
      "Number of parameter: 0.02M\n"
     ]
    }
   ],
   "source": [
    "print(net)\n",
    "print(net.parameters)\n",
    "total = sum([param.nelement() for param in net.parameters()])\n",
    "print(\"Number of parameter: %.2fM\" % (total / 1e6))"
   ]
  },
  {
   "cell_type": "code",
   "execution_count": 10,
   "metadata": {},
   "outputs": [],
   "source": [
    "def train(net, trainloader, optimizer, epochs, device):\n",
    "    \"\"\"Train the network on the training set.\"\"\"\n",
    "    criterion = torch.nn.CrossEntropyLoss()\n",
    "    net.train()\n",
    "    net.to(device)\n",
    "\n",
    "    for _ in range(epochs):\n",
    "        for features, labels in trainloader:\n",
    "            features, labels = features.to(device), labels.to(device)\n",
    "            features = features.view(-1, 1, 46).float() # for transformation\n",
    "            labels = labels.long() ######\n",
    "            optimizer.zero_grad()\n",
    "            outputs = net(features)\n",
    "            outputs = outputs.float() ######\n",
    "            loss = criterion(outputs, labels)\n",
    "            loss.backward()\n",
    "            optimizer.step()\n",
    "    return net\n",
    "\n",
    "\n",
    "def test(net, testloader, device):\n",
    "    \"\"\"Validate the network on the entire test set.\"\"\"\n",
    "    criterion = torch.nn.CrossEntropyLoss()\n",
    "    correct, loss = 0, 0.0\n",
    "\n",
    "    predicts = []\n",
    "    all_labels = []\n",
    "\n",
    "    net.eval()\n",
    "    net.to(device)\n",
    "    with torch.no_grad():\n",
    "        for features, labels in testloader:\n",
    "            features, labels = features.to(device), labels.to(device)\n",
    "            features = features.view(-1, 1, 46).float()\n",
    "            labels = labels.long() ######\n",
    "            outputs = net(features)\n",
    "            outputs = outputs.float() ######\n",
    "            loss += criterion(outputs, labels).item()\n",
    "            _, predicted = torch.max(outputs.data, 1)\n",
    "            correct += (predicted == labels).sum().item()\n",
    "\n",
    "            #####\n",
    "            # for metrics   \n",
    "            # Collect predictions and true labels for later use in calculating metrics\n",
    "            predicts += predicted.tolist()\n",
    "            all_labels += labels.cpu().numpy().tolist()\n",
    "    # accuracy = correct / len(testloader.dataset)\n",
    "    accuracy = accuracy_score(all_labels, predicts)\n",
    "    precision = precision_score(all_labels, predicts, average='weighted', zero_division=1)\n",
    "    recall = recall_score(all_labels, predicts, average='weighted', zero_division=1)\n",
    "    f1 = f1_score(all_labels, predicts, average='weighted')\n",
    "    \n",
    "    return loss, accuracy, precision, recall, f1"
   ]
  },
  {
   "cell_type": "code",
   "execution_count": 11,
   "metadata": {},
   "outputs": [],
   "source": [
    "import flwr as fl"
   ]
  },
  {
   "attachments": {},
   "cell_type": "markdown",
   "metadata": {},
   "source": [
    "Now let's defice our Flower Client class:"
   ]
  },
  {
   "cell_type": "code",
   "execution_count": 12,
   "metadata": {},
   "outputs": [],
   "source": [
    "from collections import OrderedDict\n",
    "from typing import Dict, List, Tuple\n",
    "\n",
    "import torch\n",
    "from flwr.common import NDArrays, Scalar\n",
    "\n",
    "\n",
    "class FlowerClient(fl.client.NumPyClient):\n",
    "    def __init__(self, trainloader, vallodaer) -> None:\n",
    "        super().__init__()\n",
    "\n",
    "        self.trainloader = trainloader\n",
    "        self.valloader = vallodaer\n",
    "        self.model = Net(num_classes=8)\n",
    "        # Determine device\n",
    "        self.device = torch.device(\"cuda:0\" if torch.cuda.is_available() else \"cpu\")\n",
    "        self.model.to(self.device)  # send model to device\n",
    "\n",
    "    def set_parameters(self, parameters):\n",
    "        \"\"\"With the model paramters received from the server,\n",
    "        overwrite the uninitialise model in this class with them.\"\"\"\n",
    "\n",
    "        params_dict = zip(self.model.state_dict().keys(), parameters)\n",
    "        state_dict = OrderedDict({k: torch.Tensor(v) for k, v in params_dict})\n",
    "        # now replace the parameters\n",
    "        self.model.load_state_dict(state_dict, strict=True)\n",
    "\n",
    "    def get_parameters(self, config: Dict[str, Scalar]):\n",
    "        \"\"\"Extract all model parameters and conver them to a list of\n",
    "        NumPy arryas. The server doesn't work with PyTorch/TF/etc.\"\"\"\n",
    "        return [val.cpu().numpy() for _, val in self.model.state_dict().items()]\n",
    "\n",
    "    def fit(self, parameters, config):\n",
    "        \"\"\"This method train the model using the parameters sent by the\n",
    "        server on the dataset of this client. At then end, the parameters\n",
    "        of the locally trained model are communicated back to the server\"\"\"\n",
    "\n",
    "        # copy parameters sent by the server into client's local model\n",
    "        self.set_parameters(parameters)\n",
    "\n",
    "        # read from config\n",
    "        lr, epochs = config[\"lr\"], config[\"epochs\"]\n",
    "\n",
    "        # Define the optimizer\n",
    "        # optim = torch.optim.SGD(self.model.parameters(), lr=lr, momentum=0.9)\n",
    "        optim = torch.optim.Adam(self.model.parameters(), lr=lr)\n",
    "        # do local training\n",
    "        train(self.model, self.trainloader, optim, epochs=epochs, device=self.device)\n",
    "\n",
    "        # return the model parameters to the server as well as extra info (number of training examples in this case)\n",
    "        return self.get_parameters({}), len(self.trainloader), {}\n",
    "\n",
    "    def evaluate(self, parameters: NDArrays, config: Dict[str, Scalar]):\n",
    "        \"\"\"Evaluate the model sent by the server on this client's\n",
    "        local validation set. Then return performance metrics.\"\"\"\n",
    "\n",
    "        self.set_parameters(parameters)\n",
    "        loss, accuracy, precision, recall, f1 = test(self.model, self.valloader, device=self.device)\n",
    "        # send statistics back to the server\n",
    "        return float(loss), len(self.valloader), {'accuracy': accuracy, 'precision': precision, 'recall': recall, 'f1': f1}"
   ]
  },
  {
   "cell_type": "code",
   "execution_count": 13,
   "metadata": {},
   "outputs": [],
   "source": [
    "def get_evaluate_fn(testloader):\n",
    "    \"\"\"This is a function that returns a function. The returned\n",
    "    function (i.e. `evaluate_fn`) will be executed by the strategy\n",
    "    at the end of each round to evaluate the stat of the global\n",
    "    model.\"\"\"\n",
    "\n",
    "    def evaluate_fn(server_round: int, parameters, config):\n",
    "        \"\"\"This function is executed by the strategy it will instantiate\n",
    "        a model and replace its parameters with those from the global model.\n",
    "        The, the model will be evaluate on the test set (recall this is the\n",
    "        whole MNIST test set).\"\"\"\n",
    "\n",
    "        model = Net(num_classes=8)\n",
    "\n",
    "        # Determine device\n",
    "        device = torch.device(\"cuda:0\" if torch.cuda.is_available() else \"cpu\")\n",
    "        model.to(device)  # send model to device\n",
    "\n",
    "        # set parameters to the model\n",
    "        params_dict = zip(model.state_dict().keys(), parameters)\n",
    "        state_dict = OrderedDict({k: torch.Tensor(v) for k, v in params_dict})\n",
    "        model.load_state_dict(state_dict, strict=True)\n",
    "\n",
    "        # call test\n",
    "        loss, accuracy, precision, recall, f1 = test(model, testloader, device)\n",
    "        return loss, {'accuracy': accuracy, 'precision': precision, 'recall': recall, 'f1': f1}\n",
    "\n",
    "    return evaluate_fn\n",
    "\n",
    "\n",
    "# now we can define the strategy\n",
    "# strategy = fl.server.strategy.FedAvg(\n",
    "#     fraction_fit=0.1,\n",
    "#     fraction_evaluate=0.1,\n",
    "#     min_available_clients=100,\n",
    "#     evaluate_fn=get_evaluate_fn(testloader), # Even this is not required\n",
    "# )"
   ]
  },
  {
   "cell_type": "code",
   "execution_count": 14,
   "metadata": {},
   "outputs": [],
   "source": [
    "from flwr.common import Metrics\n",
    "\n",
    "\n",
    "def fit_config(server_round: int) -> Dict[str, Scalar]:\n",
    "    \"\"\"Return a configuration with static batch size and (local) epochs.\"\"\"\n",
    "    config = {\n",
    "        \"epochs\": 1,  # Number of local epochs done by clients\n",
    "        \"lr\": 0.008, #0.01,  # Learning rate to use by clients during fit()\n",
    "    }\n",
    "    return config\n",
    "\n",
    "\n",
    "def weighted_average(metrics: List[Tuple[int, Metrics]]) -> Metrics:\n",
    "    \"\"\"Aggregation function for (federated) evaluation metrics, i.e. those returned by\n",
    "    the client's evaluate() method.\"\"\"\n",
    "    # Multiply accuracy of each client by number of examples used\n",
    "    accuracies = [num_examples * m[\"accuracy\"] for num_examples, m in metrics]\n",
    "    examples = [num_examples for num_examples, _ in metrics]\n",
    "\n",
    "    # Aggregate and return custom metric (weighted average)\n",
    "    return {\"accuracy\": sum(accuracies) / sum(examples)}"
   ]
  },
  {
   "cell_type": "markdown",
   "metadata": {},
   "source": [
    "Now we can define our strategy:"
   ]
  },
  {
   "cell_type": "code",
   "execution_count": 15,
   "metadata": {},
   "outputs": [],
   "source": [
    "strategy = fl.server.strategy.FedAvg(\n",
    "    fraction_fit=0.5,  # Sample 10% of available clients for training\n",
    "    fraction_evaluate=0.1,  # Sample 5% of available clients for evaluation\n",
    "    min_fit_clients=5,  # Never sample less than 10 clients for training\n",
    "    min_evaluate_clients=4,  # Never sample less than 5 clients for evaluation\n",
    "    min_available_clients=int(\n",
    "        5\n",
    "    ),  # Wait until at least 75 clients are available\n",
    "    on_fit_config_fn=fit_config,\n",
    "    evaluate_metrics_aggregation_fn=weighted_average,  # aggregates federated metrics\n",
    "    evaluate_fn=get_evaluate_fn(testloader),  # global evaluation function\n",
    ")\n",
    "\n",
    "# # доступны все\n",
    "# strategy = fl.server.strategy.FedAvg(\n",
    "#     fraction_fit=1,  # Sample 10% of available clients for training\n",
    "#     fraction_evaluate=0.2,  # Sample 5% of available clients for evaluation\n",
    "#     min_fit_clients=10,  # Never sample less than 10 clients for training\n",
    "#     min_evaluate_clients=5,  # Never sample less than 5 clients for evaluation\n",
    "#     min_available_clients=int(\n",
    "#         10\n",
    "#     ),  # Wait until at least 75 clients are available\n",
    "#     on_fit_config_fn=fit_config,\n",
    "#     evaluate_metrics_aggregation_fn=weighted_average,  # aggregates federated metrics\n",
    "#     evaluate_fn=get_evaluate_fn(testloader),  # global evaluation function\n",
    "# )"
   ]
  },
  {
   "attachments": {},
   "cell_type": "markdown",
   "metadata": {},
   "source": [
    "So far we have:\n",
    "* created the dataset partitions (one for each client)\n",
    "* defined the client class\n",
    "* decided on a strategy to use\n",
    "\n",
    "Now we just need to launch the Flower FL experiment... not so fast! just one final function: let's create another callback that the Simulation Engine will use in order to span VirtualClients. As you can see this is really simple: construct a FlowerClient object, assigning each their own data partition."
   ]
  },
  {
   "cell_type": "code",
   "execution_count": 16,
   "metadata": {},
   "outputs": [],
   "source": [
    "def generate_client_fn(trainloaders, valloaders):\n",
    "    def client_fn(cid: str):\n",
    "        \"\"\"Returns a FlowerClient containing the cid-th data partition\"\"\"\n",
    "\n",
    "        return FlowerClient(\n",
    "            trainloader=trainloaders[int(cid)], vallodaer=valloaders[int(cid)]\n",
    "        )\n",
    "\n",
    "    return client_fn\n",
    "\n",
    "\n",
    "client_fn_callback = generate_client_fn(trainloaders, validationloaders)"
   ]
  },
  {
   "attachments": {},
   "cell_type": "markdown",
   "metadata": {},
   "source": [
    "Now we are ready to launch the FL experiment using Flower simulation:"
   ]
  },
  {
   "cell_type": "code",
   "execution_count": 17,
   "metadata": {
    "colab": {
     "base_uri": "https://localhost:8080/"
    },
    "outputId": "9ad8dcea-8004-4c6e-a025-e168da636c88"
   },
   "outputs": [
    {
     "name": "stderr",
     "output_type": "stream",
     "text": [
      "INFO flwr 2023-12-06 01:12:42,440 | app.py:178 | Starting Flower simulation, config: ServerConfig(num_rounds=10, round_timeout=None)\n",
      "2023-12-06 01:12:47,266\tINFO worker.py:1621 -- Started a local Ray instance.\n",
      "INFO flwr 2023-12-06 01:12:49,531 | app.py:213 | Flower VCE: Ray initialized with resources: {'memory': 3347054592.0, 'object_store_memory': 1673527296.0, 'node:__internal_head__': 1.0, 'CPU': 8.0, 'node:127.0.0.1': 1.0}\n",
      "INFO flwr 2023-12-06 01:12:49,535 | app.py:219 | Optimize your simulation with Flower VCE: https://flower.dev/docs/framework/how-to-run-simulations.html\n",
      "INFO flwr 2023-12-06 01:12:49,536 | app.py:242 | Flower VCE: Resources for each Virtual Client: {'num_cpus': 1, 'num_gpus': 0.0}\n",
      "INFO flwr 2023-12-06 01:12:49,610 | app.py:288 | Flower VCE: Creating VirtualClientEngineActorPool with 8 actors\n",
      "INFO flwr 2023-12-06 01:12:49,614 | server.py:89 | Initializing global parameters\n",
      "INFO flwr 2023-12-06 01:12:49,624 | server.py:276 | Requesting initial parameters from one random client\n",
      "\u001b[2m\u001b[33m(raylet)\u001b[0m [2023-12-06 01:12:56,234 E 48595 944486] (raylet) file_system_monitor.cc:111: /tmp/ray/session_2023-12-06_01-12-42_544846_48424 is over 95% full, available space: 19474100224; capacity: 494384795648. Object creation will fail if spilling is required.\n",
      "INFO flwr 2023-12-06 01:12:59,212 | server.py:280 | Received initial parameters from one random client\n",
      "INFO flwr 2023-12-06 01:12:59,236 | server.py:91 | Evaluating initial parameters\n",
      "INFO flwr 2023-12-06 01:13:01,869 | server.py:94 | initial parameters (loss, other metrics): 1484.0464565753937, {'accuracy': 0.07843356268429988, 'precision': 0.7730328775665243, 'recall': 0.07843356268429988, 'f1': 0.04390770374051837}\n",
      "INFO flwr 2023-12-06 01:13:01,874 | server.py:104 | FL starting\n",
      "DEBUG flwr 2023-12-06 01:13:01,875 | server.py:222 | fit_round 1: strategy sampled 5 clients (out of 10)\n",
      "\u001b[2m\u001b[33m(raylet)\u001b[0m [2023-12-06 01:13:06,268 E 48595 944486] (raylet) file_system_monitor.cc:111: /tmp/ray/session_2023-12-06_01-12-42_544846_48424 is over 95% full, available space: 19318300672; capacity: 494384795648. Object creation will fail if spilling is required.\n",
      "DEBUG flwr 2023-12-06 01:13:10,968 | server.py:236 | fit_round 1 received 5 results and 0 failures\n",
      "WARNING flwr 2023-12-06 01:13:10,984 | fedavg.py:242 | No fit_metrics_aggregation_fn provided\n",
      "INFO flwr 2023-12-06 01:13:14,461 | server.py:125 | fit progress: (1, 1008.3957673311234, {'accuracy': 0.7703846841211688, 'precision': 0.7074528028195338, 'recall': 0.7703846841211688, 'f1': 0.7127692005906013}, 12.586447249999765)\n",
      "DEBUG flwr 2023-12-06 01:13:14,467 | server.py:173 | evaluate_round 1: strategy sampled 4 clients (out of 10)\n",
      "\u001b[2m\u001b[33m(raylet)\u001b[0m [2023-12-06 01:13:16,358 E 48595 944486] (raylet) file_system_monitor.cc:111: /tmp/ray/session_2023-12-06_01-12-42_544846_48424 is over 95% full, available space: 17856983040; capacity: 494384795648. Object creation will fail if spilling is required.\n",
      "DEBUG flwr 2023-12-06 01:13:19,735 | server.py:187 | evaluate_round 1 received 4 results and 0 failures\n",
      "DEBUG flwr 2023-12-06 01:13:19,738 | server.py:222 | fit_round 2: strategy sampled 5 clients (out of 10)\n",
      "DEBUG flwr 2023-12-06 01:13:22,666 | server.py:236 | fit_round 2 received 5 results and 0 failures\n",
      "INFO flwr 2023-12-06 01:13:25,090 | server.py:125 | fit progress: (2, 473.296263217926, {'accuracy': 0.7801805021892593, 'precision': 0.7298827335406876, 'recall': 0.7801805021892593, 'f1': 0.7042431273327608}, 23.21516841600169)\n",
      "DEBUG flwr 2023-12-06 01:13:25,096 | server.py:173 | evaluate_round 2: strategy sampled 4 clients (out of 10)\n",
      "\u001b[2m\u001b[33m(raylet)\u001b[0m [2023-12-06 01:13:26,375 E 48595 944486] (raylet) file_system_monitor.cc:111: /tmp/ray/session_2023-12-06_01-12-42_544846_48424 is over 95% full, available space: 17851842560; capacity: 494384795648. Object creation will fail if spilling is required.\n",
      "DEBUG flwr 2023-12-06 01:13:29,067 | server.py:187 | evaluate_round 2 received 4 results and 0 failures\n",
      "DEBUG flwr 2023-12-06 01:13:29,070 | server.py:222 | fit_round 3: strategy sampled 5 clients (out of 10)\n",
      "DEBUG flwr 2023-12-06 01:13:30,921 | server.py:236 | fit_round 3 received 5 results and 0 failures\n",
      "INFO flwr 2023-12-06 01:13:33,242 | server.py:125 | fit progress: (3, 339.258353382349, {'accuracy': 0.8111317129836476, 'precision': 0.8097989440195101, 'recall': 0.8111317129836476, 'f1': 0.7455909016484589}, 31.36753624999983)\n",
      "DEBUG flwr 2023-12-06 01:13:33,244 | server.py:173 | evaluate_round 3: strategy sampled 4 clients (out of 10)\n",
      "\u001b[2m\u001b[33m(raylet)\u001b[0m [2023-12-06 01:13:36,380 E 48595 944486] (raylet) file_system_monitor.cc:111: /tmp/ray/session_2023-12-06_01-12-42_544846_48424 is over 95% full, available space: 17853575168; capacity: 494384795648. Object creation will fail if spilling is required.\n",
      "DEBUG flwr 2023-12-06 01:13:36,658 | server.py:187 | evaluate_round 3 received 4 results and 0 failures\n",
      "DEBUG flwr 2023-12-06 01:13:36,659 | server.py:222 | fit_round 4: strategy sampled 5 clients (out of 10)\n",
      "DEBUG flwr 2023-12-06 01:13:38,207 | server.py:236 | fit_round 4 received 5 results and 0 failures\n",
      "INFO flwr 2023-12-06 01:13:39,270 | server.py:125 | fit progress: (4, 296.39687526226044, {'accuracy': 0.8237758019837369, 'precision': 0.8302156264574782, 'recall': 0.8237758019837369, 'f1': 0.767835469398874}, 37.39526733299863)\n",
      "DEBUG flwr 2023-12-06 01:13:39,271 | server.py:173 | evaluate_round 4: strategy sampled 4 clients (out of 10)\n",
      "DEBUG flwr 2023-12-06 01:13:41,383 | server.py:187 | evaluate_round 4 received 4 results and 0 failures\n",
      "DEBUG flwr 2023-12-06 01:13:41,385 | server.py:222 | fit_round 5: strategy sampled 5 clients (out of 10)\n",
      "DEBUG flwr 2023-12-06 01:13:43,211 | server.py:236 | fit_round 5 received 5 results and 0 failures\n",
      "INFO flwr 2023-12-06 01:13:44,977 | server.py:125 | fit progress: (5, 279.9806353151798, {'accuracy': 0.8240215351621839, 'precision': 0.8190289509926594, 'recall': 0.8240215351621839, 'f1': 0.7726434429884216}, 43.10198083300202)\n",
      "DEBUG flwr 2023-12-06 01:13:44,978 | server.py:173 | evaluate_round 5: strategy sampled 4 clients (out of 10)\n",
      "\u001b[2m\u001b[33m(raylet)\u001b[0m [2023-12-06 01:13:46,385 E 48595 944486] (raylet) file_system_monitor.cc:111: /tmp/ray/session_2023-12-06_01-12-42_544846_48424 is over 95% full, available space: 17854365696; capacity: 494384795648. Object creation will fail if spilling is required.\n",
      "DEBUG flwr 2023-12-06 01:13:49,677 | server.py:187 | evaluate_round 5 received 4 results and 0 failures\n",
      "DEBUG flwr 2023-12-06 01:13:49,680 | server.py:222 | fit_round 6: strategy sampled 5 clients (out of 10)\n",
      "DEBUG flwr 2023-12-06 01:13:51,543 | server.py:236 | fit_round 6 received 5 results and 0 failures\n",
      "INFO flwr 2023-12-06 01:13:52,620 | server.py:125 | fit progress: (6, 272.51814529299736, {'accuracy': 0.8247252256277365, 'precision': 0.8192184416182496, 'recall': 0.8247252256277365, 'f1': 0.7752327426757144}, 50.74527783300073)\n",
      "DEBUG flwr 2023-12-06 01:13:52,621 | server.py:173 | evaluate_round 6: strategy sampled 4 clients (out of 10)\n",
      "DEBUG flwr 2023-12-06 01:13:55,747 | server.py:187 | evaluate_round 6 received 4 results and 0 failures\n",
      "DEBUG flwr 2023-12-06 01:13:55,751 | server.py:222 | fit_round 7: strategy sampled 5 clients (out of 10)\n",
      "\u001b[2m\u001b[33m(raylet)\u001b[0m [2023-12-06 01:13:56,394 E 48595 944486] (raylet) file_system_monitor.cc:111: /tmp/ray/session_2023-12-06_01-12-42_544846_48424 is over 95% full, available space: 17871978496; capacity: 494384795648. Object creation will fail if spilling is required.\n",
      "DEBUG flwr 2023-12-06 01:13:57,972 | server.py:236 | fit_round 7 received 5 results and 0 failures\n",
      "INFO flwr 2023-12-06 01:14:00,177 | server.py:125 | fit progress: (7, 270.16766633093357, {'accuracy': 0.8257304977213833, 'precision': 0.8145485481374509, 'recall': 0.8257304977213833, 'f1': 0.7799702198245447}, 58.30174345799969)\n",
      "DEBUG flwr 2023-12-06 01:14:00,179 | server.py:173 | evaluate_round 7: strategy sampled 4 clients (out of 10)\n",
      "DEBUG flwr 2023-12-06 01:14:03,747 | server.py:187 | evaluate_round 7 received 4 results and 0 failures\n",
      "DEBUG flwr 2023-12-06 01:14:03,750 | server.py:222 | fit_round 8: strategy sampled 5 clients (out of 10)\n",
      "DEBUG flwr 2023-12-06 01:14:05,712 | server.py:236 | fit_round 8 received 5 results and 0 failures\n",
      "\u001b[2m\u001b[33m(raylet)\u001b[0m [2023-12-06 01:14:06,406 E 48595 944486] (raylet) file_system_monitor.cc:111: /tmp/ray/session_2023-12-06_01-12-42_544846_48424 is over 95% full, available space: 17871687680; capacity: 494384795648. Object creation will fail if spilling is required.\n",
      "INFO flwr 2023-12-06 01:14:07,731 | server.py:125 | fit progress: (8, 266.5884587317705, {'accuracy': 0.8250268072558306, 'precision': 0.8165800743978427, 'recall': 0.8250268072558306, 'f1': 0.7766276805463724}, 65.85628133299906)\n",
      "DEBUG flwr 2023-12-06 01:14:07,733 | server.py:173 | evaluate_round 8: strategy sampled 4 clients (out of 10)\n",
      "DEBUG flwr 2023-12-06 01:14:09,515 | server.py:187 | evaluate_round 8 received 4 results and 0 failures\n",
      "DEBUG flwr 2023-12-06 01:14:09,516 | server.py:222 | fit_round 9: strategy sampled 5 clients (out of 10)\n",
      "DEBUG flwr 2023-12-06 01:14:11,189 | server.py:236 | fit_round 9 received 5 results and 0 failures\n",
      "INFO flwr 2023-12-06 01:14:13,882 | server.py:125 | fit progress: (9, 265.0992667376995, {'accuracy': 0.8245241712090072, 'precision': 0.8148907554793117, 'recall': 0.8245241712090072, 'f1': 0.7749735832256781}, 72.00634779100074)\n",
      "DEBUG flwr 2023-12-06 01:14:13,887 | server.py:173 | evaluate_round 9: strategy sampled 4 clients (out of 10)\n",
      "\u001b[2m\u001b[33m(raylet)\u001b[0m [2023-12-06 01:14:16,407 E 48595 944486] (raylet) file_system_monitor.cc:111: /tmp/ray/session_2023-12-06_01-12-42_544846_48424 is over 95% full, available space: 17856483328; capacity: 494384795648. Object creation will fail if spilling is required.\n",
      "DEBUG flwr 2023-12-06 01:14:17,658 | server.py:187 | evaluate_round 9 received 4 results and 0 failures\n",
      "DEBUG flwr 2023-12-06 01:14:17,659 | server.py:222 | fit_round 10: strategy sampled 5 clients (out of 10)\n",
      "DEBUG flwr 2023-12-06 01:14:19,950 | server.py:236 | fit_round 10 received 5 results and 0 failures\n",
      "INFO flwr 2023-12-06 01:14:22,146 | server.py:125 | fit progress: (10, 265.35878725349903, {'accuracy': 0.8251385041551247, 'precision': 0.8042035577342128, 'recall': 0.8251385041551247, 'f1': 0.7847079852090851}, 80.27080266600024)\n",
      "DEBUG flwr 2023-12-06 01:14:22,148 | server.py:173 | evaluate_round 10: strategy sampled 4 clients (out of 10)\n",
      "DEBUG flwr 2023-12-06 01:14:25,575 | server.py:187 | evaluate_round 10 received 4 results and 0 failures\n",
      "INFO flwr 2023-12-06 01:14:25,578 | server.py:153 | FL finished in 83.70282104099897\n",
      "INFO flwr 2023-12-06 01:14:25,585 | app.py:226 | app_fit: losses_distributed [(1, 806.6429550945759), (2, 378.9855561852455), (3, 271.20963249355555), (4, 236.76266301050782), (5, 223.19067341834307), (6, 217.22608487308025), (7, 214.9360939860344), (8, 212.00071316584945), (9, 210.75912610441446), (10, 211.2357487604022)]\n",
      "INFO flwr 2023-12-06 01:14:25,586 | app.py:227 | app_fit: metrics_distributed_fit {}\n",
      "INFO flwr 2023-12-06 01:14:25,587 | app.py:228 | app_fit: metrics_distributed {'accuracy': [(1, 0.7700497053977828), (2, 0.7803188964284716), (3, 0.8121038228477283), (4, 0.8234481025383261), (5, 0.8246348887213426), (6, 0.8245650777694004), (7, 0.8259473346178549), (8, 0.8252143196224625), (9, 0.8247396051492558), (10, 0.8257797883331938)]}\n",
      "INFO flwr 2023-12-06 01:14:25,588 | app.py:229 | app_fit: losses_centralized [(0, 1484.0464565753937), (1, 1008.3957673311234), (2, 473.296263217926), (3, 339.258353382349), (4, 296.39687526226044), (5, 279.9806353151798), (6, 272.51814529299736), (7, 270.16766633093357), (8, 266.5884587317705), (9, 265.0992667376995), (10, 265.35878725349903)]\n",
      "INFO flwr 2023-12-06 01:14:25,589 | app.py:230 | app_fit: metrics_centralized {'accuracy': [(0, 0.07843356268429988), (1, 0.7703846841211688), (2, 0.7801805021892593), (3, 0.8111317129836476), (4, 0.8237758019837369), (5, 0.8240215351621839), (6, 0.8247252256277365), (7, 0.8257304977213833), (8, 0.8250268072558306), (9, 0.8245241712090072), (10, 0.8251385041551247)], 'precision': [(0, 0.7730328775665243), (1, 0.7074528028195338), (2, 0.7298827335406876), (3, 0.8097989440195101), (4, 0.8302156264574782), (5, 0.8190289509926594), (6, 0.8192184416182496), (7, 0.8145485481374509), (8, 0.8165800743978427), (9, 0.8148907554793117), (10, 0.8042035577342128)], 'recall': [(0, 0.07843356268429988), (1, 0.7703846841211688), (2, 0.7801805021892593), (3, 0.8111317129836476), (4, 0.8237758019837369), (5, 0.8240215351621839), (6, 0.8247252256277365), (7, 0.8257304977213833), (8, 0.8250268072558306), (9, 0.8245241712090072), (10, 0.8251385041551247)], 'f1': [(0, 0.04390770374051837), (1, 0.7127692005906013), (2, 0.7042431273327608), (3, 0.7455909016484589), (4, 0.767835469398874), (5, 0.7726434429884216), (6, 0.7752327426757144), (7, 0.7799702198245447), (8, 0.7766276805463724), (9, 0.7749735832256781), (10, 0.7847079852090851)]}\n"
     ]
    }
   ],
   "source": [
    "# With a dictionary, you tell Flower's VirtualClientEngine that each\n",
    "# client needs exclusive access to these many resources in order to run\n",
    "client_resources = {\"num_cpus\": 1, \"num_gpus\": 0.0}\n",
    "\n",
    "history = fl.simulation.start_simulation(\n",
    "    client_fn=client_fn_callback,  # a callback to construct a client\n",
    "    num_clients=10,  # total number of clients in the experiment\n",
    "    config=fl.server.ServerConfig(num_rounds=10),  # let's run for 10 rounds\n",
    "    strategy=strategy,  # the strategy that will orchestrate the whole FL pipeline\n",
    "    client_resources=client_resources,\n",
    ")"
   ]
  },
  {
   "cell_type": "code",
   "execution_count": 18,
   "metadata": {
    "colab": {
     "base_uri": "https://localhost:8080/",
     "height": 508
    },
    "outputId": "d8eab106-cee9-4266-9082-0944882cdba8"
   },
   "outputs": [
    {
     "name": "stdout",
     "output_type": "stream",
     "text": [
      "history.metrics_centralized = {'accuracy': [(0, 0.07843356268429988), (1, 0.7703846841211688), (2, 0.7801805021892593), (3, 0.8111317129836476), (4, 0.8237758019837369), (5, 0.8240215351621839), (6, 0.8247252256277365), (7, 0.8257304977213833), (8, 0.8250268072558306), (9, 0.8245241712090072), (10, 0.8251385041551247)], 'precision': [(0, 0.7730328775665243), (1, 0.7074528028195338), (2, 0.7298827335406876), (3, 0.8097989440195101), (4, 0.8302156264574782), (5, 0.8190289509926594), (6, 0.8192184416182496), (7, 0.8145485481374509), (8, 0.8165800743978427), (9, 0.8148907554793117), (10, 0.8042035577342128)], 'recall': [(0, 0.07843356268429988), (1, 0.7703846841211688), (2, 0.7801805021892593), (3, 0.8111317129836476), (4, 0.8237758019837369), (5, 0.8240215351621839), (6, 0.8247252256277365), (7, 0.8257304977213833), (8, 0.8250268072558306), (9, 0.8245241712090072), (10, 0.8251385041551247)], 'f1': [(0, 0.04390770374051837), (1, 0.7127692005906013), (2, 0.7042431273327608), (3, 0.7455909016484589), (4, 0.767835469398874), (5, 0.7726434429884216), (6, 0.7752327426757144), (7, 0.7799702198245447), (8, 0.7766276805463724), (9, 0.7749735832256781), (10, 0.7847079852090851)]}\n"
     ]
    },
    {
     "data": {
      "image/png": "[encoded data removed]",
      "text/plain": [
       "<Figure size 640x480 with 1 Axes>"
      ]
     },
     "metadata": {},
     "output_type": "display_data"
    },
    {
     "name": "stderr",
     "output_type": "stream",
     "text": [
      "\u001b[2m\u001b[33m(raylet)\u001b[0m [2023-12-06 01:14:26,504 E 48595 944486] (raylet) file_system_monitor.cc:111: /tmp/ray/session_2023-12-06_01-12-42_544846_48424 is over 95% full, available space: 17764368384; capacity: 494384795648. Object creation will fail if spilling is required.\n",
      "\u001b[2m\u001b[33m(raylet)\u001b[0m [2023-12-06 01:14:36,592 E 48595 944486] (raylet) file_system_monitor.cc:111: /tmp/ray/session_2023-12-06_01-12-42_544846_48424 is over 95% full, available space: 17765310464; capacity: 494384795648. Object creation will fail if spilling is required.\n"
     ]
    }
   ],
   "source": [
    "from matplotlib import pyplot as plt\n",
    "\n",
    "\n",
    "print(f\"{history.metrics_centralized = }\")\n",
    "\n",
    "global_accuracy_centralised = history.metrics_centralized[\"accuracy\"]\n",
    "global_recall_centralised = history.metrics_centralized[\"recall\"]\n",
    "global_precision_centralised = history.metrics_centralized[\"precision\"]\n",
    "global_f1_centralised = history.metrics_centralized[\"f1\"]\n",
    "\n",
    "\n",
    "round = [data[0] for data in global_accuracy_centralised]\n",
    "acc = [100.0 * data[1] for data in global_accuracy_centralised]\n",
    "recall = [100.0 * data[1] for data in global_recall_centralised]\n",
    "precision = [100.0 * data[1] for data in global_precision_centralised]\n",
    "f1 = [100.0 * data[1] for data in global_f1_centralised]\n",
    "\n",
    "plt.plot(round, acc, label='Accuracy')\n",
    "plt.plot(round, recall, label='Recall')\n",
    "plt.plot(round, f1, label='F1 Score')\n",
    "plt.plot(round, precision, label='Precision')\n",
    "\n",
    "plt.grid()\n",
    "plt.xlabel('Round')\n",
    "plt.ylabel('Percentage (%)')\n",
    "plt.legend()\n",
    "plt.show()"
   ]
  }
 ],
 "metadata": {
  "colab": {
   "provenance": [],
   "toc_visible": true
  },
  "kernelspec": {
   "display_name": "Python 3",
   "name": "python3"
  },
  "language_info": {
   "codemirror_mode": {
    "name": "ipython",
    "version": 3
   },
   "file_extension": ".py",
   "mimetype": "text/x-python",
   "name": "python",
   "nbconvert_exporter": "python",
   "pygments_lexer": "ipython3",
   "version": "3.10.8"
  }
 },
 "nbformat": 4,
 "nbformat_minor": 0
}
